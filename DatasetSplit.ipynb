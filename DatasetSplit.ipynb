{
  "nbformat": 4,
  "nbformat_minor": 0,
  "metadata": {
    "colab": {
      "provenance": []
    },
    "kernelspec": {
      "name": "python3",
      "display_name": "Python 3"
    },
    "language_info": {
      "name": "python"
    }
  },
  "cells": [
    {
      "cell_type": "markdown",
      "source": [
        "# Install Ultralytics in Colab"
      ],
      "metadata": {
        "id": "rJo94B84LNYE"
      }
    },
    {
      "cell_type": "code",
      "source": [
        "pip install ultralytics"
      ],
      "metadata": {
        "id": "LduXTDUfJZ0i",
        "colab": {
          "base_uri": "https://localhost:8080/"
        },
        "outputId": "d1201625-0f8a-4652-b70f-3ab3ac73104a"
      },
      "execution_count": null,
      "outputs": [
        {
          "output_type": "stream",
          "name": "stdout",
          "text": [
            "Requirement already satisfied: ultralytics in /usr/local/lib/python3.10/dist-packages (8.2.87)\n",
            "Requirement already satisfied: numpy<2.0.0,>=1.23.0 in /usr/local/lib/python3.10/dist-packages (from ultralytics) (1.26.4)\n",
            "Requirement already satisfied: matplotlib>=3.3.0 in /usr/local/lib/python3.10/dist-packages (from ultralytics) (3.7.1)\n",
            "Requirement already satisfied: opencv-python>=4.6.0 in /usr/local/lib/python3.10/dist-packages (from ultralytics) (4.10.0.84)\n",
            "Requirement already satisfied: pillow>=7.1.2 in /usr/local/lib/python3.10/dist-packages (from ultralytics) (9.4.0)\n",
            "Requirement already satisfied: pyyaml>=5.3.1 in /usr/local/lib/python3.10/dist-packages (from ultralytics) (6.0.2)\n",
            "Requirement already satisfied: requests>=2.23.0 in /usr/local/lib/python3.10/dist-packages (from ultralytics) (2.32.3)\n",
            "Requirement already satisfied: scipy>=1.4.1 in /usr/local/lib/python3.10/dist-packages (from ultralytics) (1.13.1)\n",
            "Requirement already satisfied: torch>=1.8.0 in /usr/local/lib/python3.10/dist-packages (from ultralytics) (2.4.0+cu121)\n",
            "Requirement already satisfied: torchvision>=0.9.0 in /usr/local/lib/python3.10/dist-packages (from ultralytics) (0.19.0+cu121)\n",
            "Requirement already satisfied: tqdm>=4.64.0 in /usr/local/lib/python3.10/dist-packages (from ultralytics) (4.66.5)\n",
            "Requirement already satisfied: psutil in /usr/local/lib/python3.10/dist-packages (from ultralytics) (5.9.5)\n",
            "Requirement already satisfied: py-cpuinfo in /usr/local/lib/python3.10/dist-packages (from ultralytics) (9.0.0)\n",
            "Requirement already satisfied: pandas>=1.1.4 in /usr/local/lib/python3.10/dist-packages (from ultralytics) (2.1.4)\n",
            "Requirement already satisfied: seaborn>=0.11.0 in /usr/local/lib/python3.10/dist-packages (from ultralytics) (0.13.1)\n",
            "Requirement already satisfied: ultralytics-thop>=2.0.0 in /usr/local/lib/python3.10/dist-packages (from ultralytics) (2.0.6)\n",
            "Requirement already satisfied: contourpy>=1.0.1 in /usr/local/lib/python3.10/dist-packages (from matplotlib>=3.3.0->ultralytics) (1.3.0)\n",
            "Requirement already satisfied: cycler>=0.10 in /usr/local/lib/python3.10/dist-packages (from matplotlib>=3.3.0->ultralytics) (0.12.1)\n",
            "Requirement already satisfied: fonttools>=4.22.0 in /usr/local/lib/python3.10/dist-packages (from matplotlib>=3.3.0->ultralytics) (4.53.1)\n",
            "Requirement already satisfied: kiwisolver>=1.0.1 in /usr/local/lib/python3.10/dist-packages (from matplotlib>=3.3.0->ultralytics) (1.4.5)\n",
            "Requirement already satisfied: packaging>=20.0 in /usr/local/lib/python3.10/dist-packages (from matplotlib>=3.3.0->ultralytics) (24.1)\n",
            "Requirement already satisfied: pyparsing>=2.3.1 in /usr/local/lib/python3.10/dist-packages (from matplotlib>=3.3.0->ultralytics) (3.1.4)\n",
            "Requirement already satisfied: python-dateutil>=2.7 in /usr/local/lib/python3.10/dist-packages (from matplotlib>=3.3.0->ultralytics) (2.8.2)\n",
            "Requirement already satisfied: pytz>=2020.1 in /usr/local/lib/python3.10/dist-packages (from pandas>=1.1.4->ultralytics) (2024.1)\n",
            "Requirement already satisfied: tzdata>=2022.1 in /usr/local/lib/python3.10/dist-packages (from pandas>=1.1.4->ultralytics) (2024.1)\n",
            "Requirement already satisfied: charset-normalizer<4,>=2 in /usr/local/lib/python3.10/dist-packages (from requests>=2.23.0->ultralytics) (3.3.2)\n",
            "Requirement already satisfied: idna<4,>=2.5 in /usr/local/lib/python3.10/dist-packages (from requests>=2.23.0->ultralytics) (3.8)\n",
            "Requirement already satisfied: urllib3<3,>=1.21.1 in /usr/local/lib/python3.10/dist-packages (from requests>=2.23.0->ultralytics) (2.0.7)\n",
            "Requirement already satisfied: certifi>=2017.4.17 in /usr/local/lib/python3.10/dist-packages (from requests>=2.23.0->ultralytics) (2024.7.4)\n",
            "Requirement already satisfied: filelock in /usr/local/lib/python3.10/dist-packages (from torch>=1.8.0->ultralytics) (3.15.4)\n",
            "Requirement already satisfied: typing-extensions>=4.8.0 in /usr/local/lib/python3.10/dist-packages (from torch>=1.8.0->ultralytics) (4.12.2)\n",
            "Requirement already satisfied: sympy in /usr/local/lib/python3.10/dist-packages (from torch>=1.8.0->ultralytics) (1.13.2)\n",
            "Requirement already satisfied: networkx in /usr/local/lib/python3.10/dist-packages (from torch>=1.8.0->ultralytics) (3.3)\n",
            "Requirement already satisfied: jinja2 in /usr/local/lib/python3.10/dist-packages (from torch>=1.8.0->ultralytics) (3.1.4)\n",
            "Requirement already satisfied: fsspec in /usr/local/lib/python3.10/dist-packages (from torch>=1.8.0->ultralytics) (2024.6.1)\n",
            "Requirement already satisfied: six>=1.5 in /usr/local/lib/python3.10/dist-packages (from python-dateutil>=2.7->matplotlib>=3.3.0->ultralytics) (1.16.0)\n",
            "Requirement already satisfied: MarkupSafe>=2.0 in /usr/local/lib/python3.10/dist-packages (from jinja2->torch>=1.8.0->ultralytics) (2.1.5)\n",
            "Requirement already satisfied: mpmath<1.4,>=1.1.0 in /usr/local/lib/python3.10/dist-packages (from sympy->torch>=1.8.0->ultralytics) (1.3.0)\n"
          ]
        }
      ]
    },
    {
      "cell_type": "markdown",
      "source": [
        "# Imports"
      ],
      "metadata": {
        "id": "S0qD0IgQLVCC"
      }
    },
    {
      "cell_type": "code",
      "source": [
        "from google.colab import drive\n",
        "drive.mount('/content/drive')"
      ],
      "metadata": {
        "colab": {
          "base_uri": "https://localhost:8080/"
        },
        "id": "NKbLE4U6J_SA",
        "outputId": "14c6aacc-ce12-469c-822e-fc6057744f78"
      },
      "execution_count": null,
      "outputs": [
        {
          "output_type": "stream",
          "name": "stdout",
          "text": [
            "Mounted at /content/drive\n"
          ]
        }
      ]
    },
    {
      "cell_type": "code",
      "source": [
        "import os"
      ],
      "metadata": {
        "id": "uAsd2HWkLhR_"
      },
      "execution_count": null,
      "outputs": []
    },
    {
      "cell_type": "code",
      "source": [
        "from ultralytics import YOLO\n",
        "from ultralytics.data.utils import autosplit"
      ],
      "metadata": {
        "id": "P8QFhx-aJce7"
      },
      "execution_count": null,
      "outputs": []
    },
    {
      "cell_type": "markdown",
      "source": [
        "# Split and Merge Functions"
      ],
      "metadata": {
        "id": "okIEP4bTLa17"
      }
    },
    {
      "cell_type": "markdown",
      "source": [
        "**IMPORTANT:** For `DATASET_DIR` to work, you need to:\n",
        "1. Create a shortcut to the Shared Drive\n",
        "2. Add it to the root directory of your Drive (ex. `\"/content/drive/MyDrive/Verizon ML Project\"`)\n",
        "3. Upload your images and text files **TOGETHER** in the dataset folder"
      ],
      "metadata": {
        "id": "DGY-d6GSN_dg"
      }
    },
    {
      "cell_type": "code",
      "execution_count": null,
      "metadata": {
        "id": "ajqoPvVYw2bq"
      },
      "outputs": [],
      "source": [
        "PROJECT_DIR = \"/content/drive/MyDrive/Verizon ML Project\"\n",
        "DATASET_DIR = os.path.join(PROJECT_DIR, \"dataset\")\n",
        "\n",
        "split_paths = set() # element => (img_path, label_path)\n",
        "\n",
        "def split():\n",
        "\n",
        "    # split dataset into train, val, and test\n",
        "    autosplit(\n",
        "        path=DATASET_DIR,\n",
        "        weights=(0.7, 0.2, 0.1),\n",
        "        annotated_only=True # only images w/ .txt files are split\n",
        "    )\n",
        "\n",
        "    # create images and labels directories\n",
        "    images_path = os.path.join(DATASET_DIR, \"images\")\n",
        "    labels_path = os.path.join(DATASET_DIR, \"labels\")\n",
        "    try:\n",
        "        images_dir = os.mkdir(images_path)\n",
        "        labels_dir = os.mkdir(labels_path)\n",
        "    except:\n",
        "        pass\n",
        "\n",
        "    # key (folder) => value (corresponding .txt from autosplit)\n",
        "    splits = {\"train\":\"autosplit_train.txt\",\n",
        "              \"val\":\"autosplit_val.txt\",\n",
        "              \"test\":\"autosplit_test.txt\"}\n",
        "\n",
        "    for split_type, split_txt in splits.items():\n",
        "\n",
        "        # create partitioned directories (ex. ./dataset/images/train)\n",
        "        split_img_path = os.path.join(images_path, split_type)\n",
        "        split_label_path = os.path.join(labels_path, split_type)\n",
        "        split_paths.add((split_img_path, split_label_path))\n",
        "        try:\n",
        "            split_img_dir = os.mkdir(split_img_path)\n",
        "            split_label_dir = os.mkdir(split_label_path)\n",
        "        except:\n",
        "            pass\n",
        "\n",
        "        # move data into partitions\n",
        "        f = open(os.path.join(PROJECT_DIR, split_txt))\n",
        "        for img_path in f:\n",
        "\n",
        "            img_path = os.path.join(PROJECT_DIR, img_path.strip()) # remove \\n\n",
        "            img_name = img_path.split('/')[-1] # CaseDesign_PhoneModels_Number.png\n",
        "\n",
        "            # change .png or .jpg (from autosplit paths) to .txt\n",
        "            txt_path = img_path.replace(\".png\", \".txt\").replace(\".jpg\", \".txt\")\n",
        "            txt_name = txt_path.split('/')[-1] # CaseDesign_PhoneModels_Number.txt\n",
        "\n",
        "            # move files\n",
        "            try:\n",
        "                new_img_path = os.path.join(split_img_path, img_name)\n",
        "                new_txt_path = os.path.join(split_label_path, txt_name)\n",
        "                os.rename(img_path, new_img_path)\n",
        "                os.rename(txt_path, new_txt_path)\n",
        "            except:\n",
        "                pass\n",
        "\n",
        "def is_valid_split():\n",
        "    for img_path, label_path in split_paths:\n",
        "        img_files = set( [ f.replace(\".png\", \"\").replace(\".jpg\",\"\") for f in os.listdir(img_path) ] )\n",
        "        label_files = set( [ f.replace(\".txt\",\"\") for f in os.listdir(label_path) ] )\n",
        "        if img_files != label_files:\n",
        "            return False\n",
        "    return True\n",
        "\n",
        "def merge():\n",
        "    for img_path, label_path in split_paths:\n",
        "        for f in os.listdir(img_path):\n",
        "            os.rename(os.path.join(img_path, f), os.path.join(DATASET_DIR, f))\n",
        "        for f in os.listdir(label_path):\n",
        "            os.rename(os.path.join(label_path, f), os.path.join(DATASET_DIR, f))"
      ]
    },
    {
      "cell_type": "code",
      "source": [
        "split()"
      ],
      "metadata": {
        "id": "c-KGmrP_JeEo",
        "colab": {
          "base_uri": "https://localhost:8080/"
        },
        "outputId": "f02ab72f-f535-432b-f9ba-c633b542c64f"
      },
      "execution_count": null,
      "outputs": [
        {
          "output_type": "stream",
          "name": "stdout",
          "text": [
            "Autosplitting images from /content/drive/MyDrive/Verizon ML Project/dataset, using *.txt labeled images only\n"
          ]
        },
        {
          "output_type": "stream",
          "name": "stderr",
          "text": [
            "100%|██████████| 293/293 [00:02<00:00, 121.72it/s]\n"
          ]
        }
      ]
    },
    {
      "cell_type": "code",
      "source": [
        "is_valid_split()"
      ],
      "metadata": {
        "colab": {
          "base_uri": "https://localhost:8080/"
        },
        "id": "_CRfLk5oU6JP",
        "outputId": "114e6525-5033-4044-a765-5cd0b25cfae1"
      },
      "execution_count": null,
      "outputs": [
        {
          "output_type": "execute_result",
          "data": {
            "text/plain": [
              "True"
            ]
          },
          "metadata": {},
          "execution_count": 8
        }
      ]
    },
    {
      "cell_type": "code",
      "source": [
        "merge()"
      ],
      "metadata": {
        "id": "d2QwnYk9Jixl"
      },
      "execution_count": null,
      "outputs": []
    },
    {
      "cell_type": "markdown",
      "source": [],
      "metadata": {
        "id": "x5_OI4OzdIf8"
      }
    },
    {
      "cell_type": "code",
      "source": [],
      "metadata": {
        "id": "6uNFIOLRdBe3"
      },
      "execution_count": null,
      "outputs": []
    }
  ]
}