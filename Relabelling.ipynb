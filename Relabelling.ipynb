{
  "cells": [
    {
      "cell_type": "code",
      "execution_count": null,
      "metadata": {
        "colab": {
          "base_uri": "https://localhost:8080/"
        },
        "id": "7yV3nlwZlXNk",
        "outputId": "b43cd2f0-4ed3-4c7e-993d-c96d16652d00"
      },
      "outputs": [
        {
          "name": "stdout",
          "output_type": "stream",
          "text": [
            "Requirement already satisfied: pandas in /usr/local/lib/python3.10/dist-packages (2.1.4)\n",
            "Requirement already satisfied: numpy<2,>=1.22.4 in /usr/local/lib/python3.10/dist-packages (from pandas) (1.26.4)\n",
            "Requirement already satisfied: python-dateutil>=2.8.2 in /usr/local/lib/python3.10/dist-packages (from pandas) (2.8.2)\n",
            "Requirement already satisfied: pytz>=2020.1 in /usr/local/lib/python3.10/dist-packages (from pandas) (2024.1)\n",
            "Requirement already satisfied: tzdata>=2022.1 in /usr/local/lib/python3.10/dist-packages (from pandas) (2024.1)\n",
            "Requirement already satisfied: six>=1.5 in /usr/local/lib/python3.10/dist-packages (from python-dateutil>=2.8.2->pandas) (1.16.0)\n"
          ]
        }
      ],
      "source": [
        "pip install pandas"
      ]
    },
    {
      "cell_type": "code",
      "execution_count": null,
      "metadata": {
        "colab": {
          "background_save": true
        },
        "id": "_Ce24SJXCwwV",
        "outputId": "51b8ea87-b29b-4855-d118-56462cbe0caa"
      },
      "outputs": [
        {
          "ename": "ValueError",
          "evalue": "mount failed",
          "output_type": "error",
          "traceback": [
            "\u001b[0;31m---------------------------------------------------------------------------\u001b[0m",
            "\u001b[0;31mValueError\u001b[0m                                Traceback (most recent call last)",
            "\u001b[0;32m<ipython-input-1-d5df0069828e>\u001b[0m in \u001b[0;36m<cell line: 2>\u001b[0;34m()\u001b[0m\n\u001b[1;32m      1\u001b[0m \u001b[0;32mfrom\u001b[0m \u001b[0mgoogle\u001b[0m\u001b[0;34m.\u001b[0m\u001b[0mcolab\u001b[0m \u001b[0;32mimport\u001b[0m \u001b[0mdrive\u001b[0m\u001b[0;34m\u001b[0m\u001b[0;34m\u001b[0m\u001b[0m\n\u001b[0;32m----> 2\u001b[0;31m \u001b[0mdrive\u001b[0m\u001b[0;34m.\u001b[0m\u001b[0mmount\u001b[0m\u001b[0;34m(\u001b[0m\u001b[0;34m'/content/drive'\u001b[0m\u001b[0;34m)\u001b[0m\u001b[0;34m\u001b[0m\u001b[0;34m\u001b[0m\u001b[0m\n\u001b[0m",
            "\u001b[0;32m/usr/local/lib/python3.10/dist-packages/google/colab/drive.py\u001b[0m in \u001b[0;36mmount\u001b[0;34m(mountpoint, force_remount, timeout_ms, readonly)\u001b[0m\n\u001b[1;32m     98\u001b[0m \u001b[0;32mdef\u001b[0m \u001b[0mmount\u001b[0m\u001b[0;34m(\u001b[0m\u001b[0mmountpoint\u001b[0m\u001b[0;34m,\u001b[0m \u001b[0mforce_remount\u001b[0m\u001b[0;34m=\u001b[0m\u001b[0;32mFalse\u001b[0m\u001b[0;34m,\u001b[0m \u001b[0mtimeout_ms\u001b[0m\u001b[0;34m=\u001b[0m\u001b[0;36m120000\u001b[0m\u001b[0;34m,\u001b[0m \u001b[0mreadonly\u001b[0m\u001b[0;34m=\u001b[0m\u001b[0;32mFalse\u001b[0m\u001b[0;34m)\u001b[0m\u001b[0;34m:\u001b[0m\u001b[0;34m\u001b[0m\u001b[0;34m\u001b[0m\u001b[0m\n\u001b[1;32m     99\u001b[0m   \u001b[0;34m\"\"\"Mount your Google Drive at the specified mountpoint path.\"\"\"\u001b[0m\u001b[0;34m\u001b[0m\u001b[0;34m\u001b[0m\u001b[0m\n\u001b[0;32m--> 100\u001b[0;31m   return _mount(\n\u001b[0m\u001b[1;32m    101\u001b[0m       \u001b[0mmountpoint\u001b[0m\u001b[0;34m,\u001b[0m\u001b[0;34m\u001b[0m\u001b[0;34m\u001b[0m\u001b[0m\n\u001b[1;32m    102\u001b[0m       \u001b[0mforce_remount\u001b[0m\u001b[0;34m=\u001b[0m\u001b[0mforce_remount\u001b[0m\u001b[0;34m,\u001b[0m\u001b[0;34m\u001b[0m\u001b[0;34m\u001b[0m\u001b[0m\n",
            "\u001b[0;32m/usr/local/lib/python3.10/dist-packages/google/colab/drive.py\u001b[0m in \u001b[0;36m_mount\u001b[0;34m(mountpoint, force_remount, timeout_ms, ephemeral, readonly)\u001b[0m\n\u001b[1;32m    281\u001b[0m             \u001b[0;34m'https://research.google.com/colaboratory/faq.html#drive-timeout'\u001b[0m\u001b[0;34m\u001b[0m\u001b[0;34m\u001b[0m\u001b[0m\n\u001b[1;32m    282\u001b[0m         )\n\u001b[0;32m--> 283\u001b[0;31m       \u001b[0;32mraise\u001b[0m \u001b[0mValueError\u001b[0m\u001b[0;34m(\u001b[0m\u001b[0;34m'mount failed'\u001b[0m \u001b[0;34m+\u001b[0m \u001b[0mextra_reason\u001b[0m\u001b[0;34m)\u001b[0m\u001b[0;34m\u001b[0m\u001b[0;34m\u001b[0m\u001b[0m\n\u001b[0m\u001b[1;32m    284\u001b[0m     \u001b[0;32melif\u001b[0m \u001b[0mcase\u001b[0m \u001b[0;34m==\u001b[0m \u001b[0;36m4\u001b[0m\u001b[0;34m:\u001b[0m\u001b[0;34m\u001b[0m\u001b[0;34m\u001b[0m\u001b[0m\n\u001b[1;32m    285\u001b[0m       \u001b[0;31m# Terminate the DriveFS binary before killing bash.\u001b[0m\u001b[0;34m\u001b[0m\u001b[0;34m\u001b[0m\u001b[0m\n",
            "\u001b[0;31mValueError\u001b[0m: mount failed"
          ]
        }
      ],
      "source": [
        "from google.colab import drive\n",
        "drive.mount('/content/drive')"
      ]
    },
    {
      "cell_type": "code",
      "execution_count": null,
      "metadata": {
        "id": "E2E5OZL0CxaG"
      },
      "outputs": [],
      "source": [
        "import os\n",
        "import pandas as pd"
      ]
    },
    {
      "cell_type": "markdown",
      "metadata": {
        "id": "ksX_KpSqludp"
      },
      "source": [
        "### Obtain Label Map from Spreadsheet w/ pandas"
      ]
    },
    {
      "cell_type": "markdown",
      "metadata": {
        "id": "Xs4e_S7TyXd7"
      },
      "source": [
        "Place the shared drive into the root directory of your Google Drive:"
      ]
    },
    {
      "cell_type": "code",
      "execution_count": null,
      "metadata": {
        "id": "JHhNRXW-m9X1"
      },
      "outputs": [],
      "source": [
        "PROJECT_DIR = '/content/drive/MyDrive/Verizon ML Project'"
      ]
    },
    {
      "cell_type": "code",
      "execution_count": null,
      "metadata": {
        "colab": {
          "base_uri": "https://localhost:8080/"
        },
        "id": "hxIsfIgWlela",
        "outputId": "e8d7e6ba-1abf-4770-9f1b-a760a0997664"
      },
      "outputs": [
        {
          "data": {
            "text/plain": [
              "{'OtterBoxSymmetryCore': 0,\n",
              " 'CASETiFYMirror': 1,\n",
              " 'IncipioCru': 2,\n",
              " 'Dahliaa-la': 3,\n",
              " 'UAGPathfinder': 4,\n",
              " 'AfternoonInVersailles': 5,\n",
              " 'DefenderSeriesProBlack': 6,\n",
              " 'RegencyEra': 7,\n",
              " 'CherryMonCheri': 8,\n",
              " 'BowPosiePink': 9,\n",
              " 'Penelope': 10,\n",
              " 'LadyWhistledown': 11,\n",
              " 'FrenchBlue': 12,\n",
              " 'SpigenCoreArmorCase': 13,\n",
              " 'TouchofPearl': 14,\n",
              " 'SymmetrySeriesBlack': 15,\n",
              " 'SundayinSoho': 16,\n",
              " 'VioletFloralMix': 17,\n",
              " 'VelvetCaviarChecker-NudeVibe': 18,\n",
              " 'MoonandStars': 19,\n",
              " 'GoldFloral': 20,\n",
              " 'HollyhockFloralClear': 21,\n",
              " 'UAGCivilianCase': 22,\n",
              " 'Camo': 23,\n",
              " 'MoodyFloral': 24}"
            ]
          },
          "execution_count": 38,
          "metadata": {},
          "output_type": "execute_result"
        }
      ],
      "source": [
        "# pull excel sheet\n",
        "df = pd.read_excel(os.path.join(PROJECT_DIR, 'Verizon Phone Cases Spreadsheet.xlsx'))\n",
        "df_design_label = df[['Case Design', 'Label']]\n",
        "\n",
        "# initialize maps\n",
        "label_map = {} # case name => label\n",
        "yaml_map = {}  # label => case name\n",
        "\n",
        "# create maps\n",
        "for index, row in df_design_label.iterrows():\n",
        "  label_map[row['Case Design'].replace(\" \", \"\")] = row['Label']\n",
        "  yaml_map[row['Label']] = [row['Case Design'].replace(\" \", \"\")]\n",
        "\n",
        "label_map"
      ]
    },
    {
      "cell_type": "markdown",
      "metadata": {
        "id": "Wi-5VvgclfAL"
      },
      "source": [
        "### Use Case Design in Filename to Assign Label in .txt. file"
      ]
    },
    {
      "cell_type": "code",
      "execution_count": null,
      "metadata": {
        "colab": {
          "base_uri": "https://localhost:8080/"
        },
        "id": "LKVspVVrssMt",
        "outputId": "875d947d-7f01-43af-f05b-bb8e66328fb9"
      },
      "outputs": [
        {
          "name": "stdout",
          "output_type": "stream",
          "text": [
            "All text files have been updated.\n"
          ]
        }
      ],
      "source": [
        "# Replace 'your-folder-path' with the path to your Google Drive folder\n",
        "\n",
        "# assumes all data is not split\n",
        "folder_path = os.path.join(PROJECT_DIR, 'dataset')\n",
        "\n",
        "# iterate over all files in the folder\n",
        "for filename in os.listdir(folder_path):\n",
        "\n",
        "    # check if the file is a text file\n",
        "    if filename.endswith('.txt'):\n",
        "        file_path = os.path.join(folder_path, filename)\n",
        "\n",
        "        # read file\n",
        "        with open(file_path, 'r') as file:\n",
        "            content = file.read()\n",
        "\n",
        "        # obtain case design from file name\n",
        "        # (assuming name is CaseDesign_PhoneModels_Number.png)\n",
        "        case_design = filename.split('_')[0]\n",
        "        if case_design not in label_map:\n",
        "            continue\n",
        "\n",
        "        # get the corresponding value from the label_map\n",
        "        new_id = str(label_map[case_design])\n",
        "\n",
        "        # check if file is not empty\n",
        "        if content:\n",
        "            # modify first number in YOLO format\n",
        "            margin = len(content.split()[0])\n",
        "            modified_content = new_id + content[margin:]\n",
        "\n",
        "            # write the modified content back to the file\n",
        "            with open(file_path, 'w') as file:\n",
        "                file.write(modified_content)\n",
        "\n",
        "print(\"All text files have been updated.\")"
      ]
    },
    {
      "cell_type": "markdown",
      "metadata": {
        "id": "6RQz0J_Cu2vO"
      },
      "source": [
        "### dataset.yaml\n",
        "```\n",
        "# Train/val/test sets as 1) dir: path/to/imgs, 2) file: path/to/imgs.txt, or 3) list: [path/to/imgs1, path/to/imgs2, ..]\n",
        "\n",
        "path: /content/drive/MyDrive/Verizon_ML_Project/dataset\n",
        "train: images/train  # train images (relative to 'path')\n",
        "val: images/val  # val images (relative to 'path')\n",
        "test: images/test # test images\n",
        "\n",
        "# Classes (25 case styles)\n",
        "names:\n",
        "  0: OtterBoxSymmetryCore\n",
        "  1: CASETiFYMirror\n",
        "  2: IncipioCru\n",
        "  3: Dahliaa-la\n",
        "  4: UAGPathfinder\n",
        "  5: AfternoonInVersailles\n",
        "  6: DefenderSeriesProBlack\n",
        "  7: RegencyEra\n",
        "  8: CherryMonCheri\n",
        "  9: BowPosiePink\n",
        "  10: Penelope\n",
        "  11: LadyWhistledown\n",
        "  12: FrenchBlue\n",
        "  13: SpigenCoreArmorCase\n",
        "  14: TouchofPearl\n",
        "  15: SymmetrySeriesBlack\n",
        "  16: SundayinSoho\n",
        "  17: VioletFloralMix\n",
        "  18: VelvetCaviarChecker-NudeVibe\n",
        "  19: MoonandStars\n",
        "  20: GoldFloral\n",
        "  21: HollyhockFloralClear\n",
        "  22: UAGCivilianCase\n",
        "  23: Camo\n",
        "  24: MoodyFloral\n",
        "```"
      ]
    },
    {
      "cell_type": "code",
      "execution_count": null,
      "metadata": {
        "id": "95n7RfmPyGRK"
      },
      "outputs": [],
      "source": []
    }
  ],
  "metadata": {
    "colab": {
      "provenance": []
    },
    "kernelspec": {
      "display_name": "Python 3",
      "name": "python3"
    },
    "language_info": {
      "name": "python"
    }
  },
  "nbformat": 4,
  "nbformat_minor": 0
}