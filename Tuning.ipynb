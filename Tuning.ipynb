{
  "nbformat": 4,
  "nbformat_minor": 0,
  "metadata": {
    "colab": {
      "provenance": []
    },
    "kernelspec": {
      "name": "python3",
      "display_name": "Python 3"
    },
    "language_info": {
      "name": "python"
    }
  },
  "cells": [
    {
      "cell_type": "code",
      "execution_count": 3,
      "metadata": {
        "colab": {
          "base_uri": "https://localhost:8080/"
        },
        "id": "qxKsROQ_wfRA",
        "outputId": "3f3ee715-94ff-4d55-c66d-2df881b3d77f"
      },
      "outputs": [
        {
          "output_type": "stream",
          "name": "stdout",
          "text": [
            "Mounted at /content/drive\n"
          ]
        }
      ],
      "source": [
        "from google.colab import drive\n",
        "drive.mount('/content/drive')"
      ]
    },
    {
      "cell_type": "code",
      "source": [
        "!pip install -r \"/content/drive/MyDrive/Verizon ML Project/requirements.txt\""
      ],
      "metadata": {
        "colab": {
          "base_uri": "https://localhost:8080/"
        },
        "id": "LHAjI10DwkEz",
        "outputId": "01655ba6-d6fb-4930-de83-19a7a3717d39",
        "collapsed": true
      },
      "execution_count": 4,
      "outputs": [
        {
          "output_type": "stream",
          "name": "stdout",
          "text": [
            "Collecting Ultralytics (from -r /content/drive/MyDrive/Verizon ML Project/requirements.txt (line 1))\n",
            "  Downloading ultralytics-8.2.100-py3-none-any.whl.metadata (39 kB)\n",
            "Requirement already satisfied: numpy<2.0.0,>=1.23.0 in /usr/local/lib/python3.10/dist-packages (from Ultralytics->-r /content/drive/MyDrive/Verizon ML Project/requirements.txt (line 1)) (1.26.4)\n",
            "Requirement already satisfied: matplotlib>=3.3.0 in /usr/local/lib/python3.10/dist-packages (from Ultralytics->-r /content/drive/MyDrive/Verizon ML Project/requirements.txt (line 1)) (3.7.1)\n",
            "Requirement already satisfied: opencv-python>=4.6.0 in /usr/local/lib/python3.10/dist-packages (from Ultralytics->-r /content/drive/MyDrive/Verizon ML Project/requirements.txt (line 1)) (4.10.0.84)\n",
            "Requirement already satisfied: pillow>=7.1.2 in /usr/local/lib/python3.10/dist-packages (from Ultralytics->-r /content/drive/MyDrive/Verizon ML Project/requirements.txt (line 1)) (10.4.0)\n",
            "Requirement already satisfied: pyyaml>=5.3.1 in /usr/local/lib/python3.10/dist-packages (from Ultralytics->-r /content/drive/MyDrive/Verizon ML Project/requirements.txt (line 1)) (6.0.2)\n",
            "Requirement already satisfied: requests>=2.23.0 in /usr/local/lib/python3.10/dist-packages (from Ultralytics->-r /content/drive/MyDrive/Verizon ML Project/requirements.txt (line 1)) (2.32.3)\n",
            "Requirement already satisfied: scipy>=1.4.1 in /usr/local/lib/python3.10/dist-packages (from Ultralytics->-r /content/drive/MyDrive/Verizon ML Project/requirements.txt (line 1)) (1.13.1)\n",
            "Requirement already satisfied: torch>=1.8.0 in /usr/local/lib/python3.10/dist-packages (from Ultralytics->-r /content/drive/MyDrive/Verizon ML Project/requirements.txt (line 1)) (2.4.1+cu121)\n",
            "Requirement already satisfied: torchvision>=0.9.0 in /usr/local/lib/python3.10/dist-packages (from Ultralytics->-r /content/drive/MyDrive/Verizon ML Project/requirements.txt (line 1)) (0.19.1+cu121)\n",
            "Requirement already satisfied: tqdm>=4.64.0 in /usr/local/lib/python3.10/dist-packages (from Ultralytics->-r /content/drive/MyDrive/Verizon ML Project/requirements.txt (line 1)) (4.66.5)\n",
            "Requirement already satisfied: psutil in /usr/local/lib/python3.10/dist-packages (from Ultralytics->-r /content/drive/MyDrive/Verizon ML Project/requirements.txt (line 1)) (5.9.5)\n",
            "Requirement already satisfied: py-cpuinfo in /usr/local/lib/python3.10/dist-packages (from Ultralytics->-r /content/drive/MyDrive/Verizon ML Project/requirements.txt (line 1)) (9.0.0)\n",
            "Requirement already satisfied: pandas>=1.1.4 in /usr/local/lib/python3.10/dist-packages (from Ultralytics->-r /content/drive/MyDrive/Verizon ML Project/requirements.txt (line 1)) (2.1.4)\n",
            "Requirement already satisfied: seaborn>=0.11.0 in /usr/local/lib/python3.10/dist-packages (from Ultralytics->-r /content/drive/MyDrive/Verizon ML Project/requirements.txt (line 1)) (0.13.1)\n",
            "Collecting ultralytics-thop>=2.0.0 (from Ultralytics->-r /content/drive/MyDrive/Verizon ML Project/requirements.txt (line 1))\n",
            "  Downloading ultralytics_thop-2.0.8-py3-none-any.whl.metadata (9.3 kB)\n",
            "Requirement already satisfied: contourpy>=1.0.1 in /usr/local/lib/python3.10/dist-packages (from matplotlib>=3.3.0->Ultralytics->-r /content/drive/MyDrive/Verizon ML Project/requirements.txt (line 1)) (1.3.0)\n",
            "Requirement already satisfied: cycler>=0.10 in /usr/local/lib/python3.10/dist-packages (from matplotlib>=3.3.0->Ultralytics->-r /content/drive/MyDrive/Verizon ML Project/requirements.txt (line 1)) (0.12.1)\n",
            "Requirement already satisfied: fonttools>=4.22.0 in /usr/local/lib/python3.10/dist-packages (from matplotlib>=3.3.0->Ultralytics->-r /content/drive/MyDrive/Verizon ML Project/requirements.txt (line 1)) (4.53.1)\n",
            "Requirement already satisfied: kiwisolver>=1.0.1 in /usr/local/lib/python3.10/dist-packages (from matplotlib>=3.3.0->Ultralytics->-r /content/drive/MyDrive/Verizon ML Project/requirements.txt (line 1)) (1.4.7)\n",
            "Requirement already satisfied: packaging>=20.0 in /usr/local/lib/python3.10/dist-packages (from matplotlib>=3.3.0->Ultralytics->-r /content/drive/MyDrive/Verizon ML Project/requirements.txt (line 1)) (24.1)\n",
            "Requirement already satisfied: pyparsing>=2.3.1 in /usr/local/lib/python3.10/dist-packages (from matplotlib>=3.3.0->Ultralytics->-r /content/drive/MyDrive/Verizon ML Project/requirements.txt (line 1)) (3.1.4)\n",
            "Requirement already satisfied: python-dateutil>=2.7 in /usr/local/lib/python3.10/dist-packages (from matplotlib>=3.3.0->Ultralytics->-r /content/drive/MyDrive/Verizon ML Project/requirements.txt (line 1)) (2.8.2)\n",
            "Requirement already satisfied: pytz>=2020.1 in /usr/local/lib/python3.10/dist-packages (from pandas>=1.1.4->Ultralytics->-r /content/drive/MyDrive/Verizon ML Project/requirements.txt (line 1)) (2024.2)\n",
            "Requirement already satisfied: tzdata>=2022.1 in /usr/local/lib/python3.10/dist-packages (from pandas>=1.1.4->Ultralytics->-r /content/drive/MyDrive/Verizon ML Project/requirements.txt (line 1)) (2024.1)\n",
            "Requirement already satisfied: charset-normalizer<4,>=2 in /usr/local/lib/python3.10/dist-packages (from requests>=2.23.0->Ultralytics->-r /content/drive/MyDrive/Verizon ML Project/requirements.txt (line 1)) (3.3.2)\n",
            "Requirement already satisfied: idna<4,>=2.5 in /usr/local/lib/python3.10/dist-packages (from requests>=2.23.0->Ultralytics->-r /content/drive/MyDrive/Verizon ML Project/requirements.txt (line 1)) (3.10)\n",
            "Requirement already satisfied: urllib3<3,>=1.21.1 in /usr/local/lib/python3.10/dist-packages (from requests>=2.23.0->Ultralytics->-r /content/drive/MyDrive/Verizon ML Project/requirements.txt (line 1)) (2.2.3)\n",
            "Requirement already satisfied: certifi>=2017.4.17 in /usr/local/lib/python3.10/dist-packages (from requests>=2.23.0->Ultralytics->-r /content/drive/MyDrive/Verizon ML Project/requirements.txt (line 1)) (2024.8.30)\n",
            "Requirement already satisfied: filelock in /usr/local/lib/python3.10/dist-packages (from torch>=1.8.0->Ultralytics->-r /content/drive/MyDrive/Verizon ML Project/requirements.txt (line 1)) (3.16.1)\n",
            "Requirement already satisfied: typing-extensions>=4.8.0 in /usr/local/lib/python3.10/dist-packages (from torch>=1.8.0->Ultralytics->-r /content/drive/MyDrive/Verizon ML Project/requirements.txt (line 1)) (4.12.2)\n",
            "Requirement already satisfied: sympy in /usr/local/lib/python3.10/dist-packages (from torch>=1.8.0->Ultralytics->-r /content/drive/MyDrive/Verizon ML Project/requirements.txt (line 1)) (1.13.3)\n",
            "Requirement already satisfied: networkx in /usr/local/lib/python3.10/dist-packages (from torch>=1.8.0->Ultralytics->-r /content/drive/MyDrive/Verizon ML Project/requirements.txt (line 1)) (3.3)\n",
            "Requirement already satisfied: jinja2 in /usr/local/lib/python3.10/dist-packages (from torch>=1.8.0->Ultralytics->-r /content/drive/MyDrive/Verizon ML Project/requirements.txt (line 1)) (3.1.4)\n",
            "Requirement already satisfied: fsspec in /usr/local/lib/python3.10/dist-packages (from torch>=1.8.0->Ultralytics->-r /content/drive/MyDrive/Verizon ML Project/requirements.txt (line 1)) (2024.6.1)\n",
            "Requirement already satisfied: six>=1.5 in /usr/local/lib/python3.10/dist-packages (from python-dateutil>=2.7->matplotlib>=3.3.0->Ultralytics->-r /content/drive/MyDrive/Verizon ML Project/requirements.txt (line 1)) (1.16.0)\n",
            "Requirement already satisfied: MarkupSafe>=2.0 in /usr/local/lib/python3.10/dist-packages (from jinja2->torch>=1.8.0->Ultralytics->-r /content/drive/MyDrive/Verizon ML Project/requirements.txt (line 1)) (2.1.5)\n",
            "Requirement already satisfied: mpmath<1.4,>=1.1.0 in /usr/local/lib/python3.10/dist-packages (from sympy->torch>=1.8.0->Ultralytics->-r /content/drive/MyDrive/Verizon ML Project/requirements.txt (line 1)) (1.3.0)\n",
            "Downloading ultralytics-8.2.100-py3-none-any.whl (874 kB)\n",
            "\u001b[2K   \u001b[90m━━━━━━━━━━━━━━━━━━━━━━━━━━━━━━━━━━━━━━━━\u001b[0m \u001b[32m874.1/874.1 kB\u001b[0m \u001b[31m22.9 MB/s\u001b[0m eta \u001b[36m0:00:00\u001b[0m\n",
            "\u001b[?25hDownloading ultralytics_thop-2.0.8-py3-none-any.whl (26 kB)\n",
            "Installing collected packages: ultralytics-thop, Ultralytics\n",
            "Successfully installed Ultralytics-8.2.100 ultralytics-thop-2.0.8\n"
          ]
        }
      ]
    },
    {
      "cell_type": "code",
      "source": [
        "from ultralytics import YOLO\n",
        "import os\n",
        "import numpy as np\n",
        "import pandas as pd\n",
        "import matplotlib.pyplot as plt\n",
        "from PIL import Image\n",
        "from google.colab.patches import cv2_imshow"
      ],
      "metadata": {
        "colab": {
          "base_uri": "https://localhost:8080/"
        },
        "id": "u83Ug1jewq-d",
        "outputId": "6e220e79-4707-4d9f-f62a-cbfad6376b30"
      },
      "execution_count": 5,
      "outputs": [
        {
          "output_type": "stream",
          "name": "stdout",
          "text": [
            "Creating new Ultralytics Settings v0.0.6 file ✅ \n",
            "View Ultralytics Settings with 'yolo settings' or at '/root/.config/Ultralytics/settings.json'\n",
            "Update Settings with 'yolo settings key=value', i.e. 'yolo settings runs_dir=path/to/dir'. For help see https://docs.ultralytics.com/quickstart/#ultralytics-settings.\n"
          ]
        }
      ]
    },
    {
      "cell_type": "code",
      "source": [
        "PROJECT_DIR = \"/content/drive/MyDrive/Verizon ML Project\"\n",
        "OUTPUT_DIR = os.path.join(PROJECT_DIR, \"output\")\n",
        "YAML_PATH = os.path.join(PROJECT_DIR, \"dataset.yaml\")\n",
        "\n",
        "CACHE_MODE = 'disk'"
      ],
      "metadata": {
        "id": "rHeQMf3_wtAa"
      },
      "execution_count": 6,
      "outputs": []
    },
    {
      "cell_type": "markdown",
      "source": [
        "## Tune Manually"
      ],
      "metadata": {
        "id": "mMQ75iMMMVdE"
      }
    },
    {
      "cell_type": "markdown",
      "source": [
        "1. Loop through parameters\n",
        "2. For every value in the parameter's given list,\n",
        "   \n",
        "   a. Load a new model.\n",
        "   \n",
        "   b. Test the value for ten epochs. Make sure you specify the `project` and `name` parameters so that you can compare `results.csv`.\n",
        "\n",
        "   c. Manually evaluate the precision (prioritize minimal false positives).\n",
        "\n",
        "   d. Record the value w/ best precision score.\n",
        "\n",
        "   NOTE: If the parameter performs data augmentation, make sure the value is reasonable (e.g. we shouldn't adjust hue with `hsv_h=1.0`)\n",
        "\n",
        "This should take 1-2 hours.\n",
        "\n",
        "#### TRAIN WITH A SMALLER MODEL TO REDUCE TRAINING TIME"
      ],
      "metadata": {
        "id": "AC0M20cbtwOb"
      }
    },
    {
      "cell_type": "code",
      "source": [
        "\"\"\"\n",
        "Author:       Chris Taguba\n",
        "Date:         9/22/24\n",
        "Description:  This script performs hyperparameter tuning using the YOLOv8 model\n",
        "              on various parameters like 'hsv_h', 'hsv_s', 'degrees', etc. The\n",
        "              model is trained for 10 epochs for each parameter value with\n",
        "              specific configurations.\n",
        "\"\"\"\n",
        "\n",
        "all_params = {\n",
        "    'hsv_h': np.linspace(0.0, 1.0, 9),\n",
        "    'hsv_s': np.linspace(0.0, 1.0, 9),\n",
        "    'hsv_v': np.linspace(0.0, 1.0, 9),\n",
        "    'degrees': np.linspace(-20.0, 20.0, 9),\n",
        "    'translate': np.linspace(0.0, 1.0, 9),\n",
        "    'scale': np.linspace(0.0, 1.0, 9),\n",
        "    'shear': np.linspace(-4.0, 4.0, 9),\n",
        "    'perspective': np.linspace(0.0, 0.001, 9),\n",
        "}\n",
        "\n",
        "for key in all_params:\n",
        "\n",
        "    for value in all_params[key]:\n",
        "\n",
        "        # this prevents RepresenterError\n",
        "        if value is None:\n",
        "            continue\n",
        "        if isinstance(value, float):\n",
        "            value = str(value)\n",
        "\n",
        "        print(f\"\\nTraining with {key}={value}\\n\")\n",
        "\n",
        "        # each new hyperparameter value starts w/ the same model\n",
        "        # use small model to reduce training time\n",
        "        model = YOLO(os.path.join(OUTPUT_DIR, \"v8s-default\", \"weights\", \"best.pt\"))\n",
        "\n",
        "        results = model.train(\n",
        "            data=YAML_PATH,\n",
        "\n",
        "            epochs=10, # train less to cover larger search space in shorter time\n",
        "            close_mosaic=2,\n",
        "            batch=16,\n",
        "            imgsz=640,\n",
        "\n",
        "            project=OUTPUT_DIR,\n",
        "            name=f\"v8s_{key}-{value}\",\n",
        "\n",
        "            save=False, # do not save since xl .pt models are >100 MB each\n",
        "            cache=CACHE_MODE,\n",
        "            device=0,\n",
        "            pretrained=True,\n",
        "            plots=False,\n",
        "            exist_ok=True,\n",
        "\n",
        "            # dynamically insert training keywords\n",
        "            **{key:float(value)}\n",
        "        )"
      ],
      "metadata": {
        "id": "5UZBD-hZ9iRp",
        "collapsed": true
      },
      "execution_count": null,
      "outputs": []
    },
    {
      "cell_type": "markdown",
      "source": [
        "## Compare Precision Across Each Value\n",
        "Function allows you to compare values by printing out the following:\n",
        "- Value w/ best precision (and cls_loss at best precision)\n",
        "- Value w/ best cls_loss (and precision at cls_loss)\n",
        "\n",
        "After finishing tuning for a hyperparameter, set up the directories like this:\n",
        "\n",
        "---- hsv_h-tune (`p_dir`)\n",
        "\n",
        "-------- v8s_hsv_h-0.0 (`subdir`)\n",
        "\n",
        "-------- v8s_hsv_h-0.125\n",
        "\n",
        "-------- v8s_hsv_h-0.25\n",
        "\n",
        "-------- ..."
      ],
      "metadata": {
        "id": "JGJJhgdRD0dQ"
      }
    },
    {
      "cell_type": "code",
      "source": [
        "# List of hyperparameters to tune\n",
        "params = [\n",
        "    'hsv_h-tune',\n",
        "    'hsv_s-tune',\n",
        "    'hsv_v-tune',\n",
        "    'degrees-tune',\n",
        "    'translate-tune',\n",
        "    'scale-tune',\n",
        "    'shear-tune',\n",
        "    'perspective-tune',\n",
        "]\n",
        "\n",
        "# Loop through each hyperparameter\n",
        "for p in params:\n",
        "\n",
        "    # Directory storing all tuning experiments for the hyperparameter\n",
        "    p_dir = os.path.join(OUTPUT_DIR, p)\n",
        "\n",
        "    # Initialize best metrics\n",
        "    max_prec = 0\n",
        "    min_cls_loss = float('inf')\n",
        "    best_prec_dir = \"\"         # Directory with the highest precision\n",
        "    best_cls_dir = \"\"          # Directory with the lowest classification loss\n",
        "    prec_at_min_cls = \"\"       # Precision at the lowest classification loss\n",
        "    cls_at_max_prec = \"\"       # Classification loss at the highest precision\n",
        "\n",
        "    # Loop through subdirectories for different values of the hyperparameter\n",
        "    for val_dir in os.listdir(p_dir):\n",
        "\n",
        "        # Try to read the results CSV for the current tuning run\n",
        "        try:\n",
        "            df = pd.read_csv(os.path.join(p_dir, val_dir, 'results.csv'))\n",
        "        except:\n",
        "            continue  # Skip if the file is missing or unreadable\n",
        "\n",
        "        # Extract max precision and min classification loss\n",
        "        prec = df['   metrics/precision(B)'].max()\n",
        "        cls_loss = df['           val/cls_loss'].min()\n",
        "\n",
        "        # Update best precision if the current run has a higher value\n",
        "        if prec > max_prec:\n",
        "            max_prec = prec\n",
        "            best_prec_dir = val_dir\n",
        "\n",
        "            max_prec_idx = df['   metrics/precision(B)'].idxmax()\n",
        "            cls_at_max_prec = df.iloc[max_prec_idx]['           val/cls_loss']\n",
        "\n",
        "        # Update best classification loss if the current run has a lower value\n",
        "        if cls_loss < min_cls_loss:\n",
        "            min_cls_loss = cls_loss\n",
        "            best_cls_dir = val_dir\n",
        "\n",
        "            min_cls_idx = df['           val/cls_loss'].idxmin()\n",
        "            prec_at_min_cls = df.iloc[min_cls_idx]['   metrics/precision(B)']\n",
        "\n",
        "    # Print the results for the current hyperparameter\n",
        "    print(p)\n",
        "    print(f\"Max precision: {max_prec} in {best_prec_dir} (Class loss at max precision: {cls_at_max_prec})\")\n",
        "    print(f\"Min classification loss: {min_cls_loss} in {best_cls_dir} (Precision at min classification loss: {prec_at_min_cls})\")\n",
        "    print()\n"
      ],
      "metadata": {
        "colab": {
          "base_uri": "https://localhost:8080/"
        },
        "id": "fuk_EPA8BfV5",
        "outputId": "5332a76d-2a2c-450f-9674-94e734277572"
      },
      "execution_count": 44,
      "outputs": [
        {
          "output_type": "stream",
          "name": "stdout",
          "text": [
            "hsv_h-tune\n",
            "max_prec: 0.97777 in v8s_hsv_h-0.375 (cls_loss at max_prec 0.33726)\n",
            "min_cls_loss: 0.26228 in v8s_hsv_h-1.0 (prec at min_cls_loss: 0.94655)\n",
            "\n",
            "hsv_s-tune\n",
            "max_prec: 0.97456 in v8s_hsv_s-0.375 (cls_loss at max_prec 0.31644)\n",
            "min_cls_loss: 0.25215 in v8s_hsv_s-0.625 (prec at min_cls_loss: 0.94679)\n",
            "\n",
            "hsv_v-tune\n",
            "max_prec: 0.95906 in v8s_hsv_v-0.25 (cls_loss at max_prec 0.34085)\n",
            "min_cls_loss: 0.31971 in v8s_hsv_v-0.5 (prec at min_cls_loss: 0.9294)\n",
            "\n",
            "degrees-tune\n",
            "max_prec: 0.96678 in v8s_degrees-0.0 (cls_loss at max_prec 0.36804)\n",
            "min_cls_loss: 0.35931 in v8s_degrees-0.0 (prec at min_cls_loss: 0.86159)\n",
            "\n",
            "translate-tune\n",
            "max_prec: 0.94407 in v8s_translate-0.75 (cls_loss at max_prec 0.5928)\n",
            "min_cls_loss: 0.35603 in v8s_translate-0.375 (prec at min_cls_loss: 0.93844)\n",
            "\n",
            "scale-tune\n",
            "max_prec: 0.96678 in v8s_scale-0.5 (cls_loss at max_prec 0.36804)\n",
            "min_cls_loss: 0.355 in v8s_scale-0.125 (prec at min_cls_loss: 0.89814)\n",
            "\n",
            "shear-tune\n",
            "max_prec: 0.96678 in v8s_shear-0.0 (cls_loss at max_prec 0.36804)\n",
            "min_cls_loss: 0.35931 in v8s_shear-0.0 (prec at min_cls_loss: 0.86159)\n",
            "\n",
            "perspective-tune\n",
            "max_prec: 0.96678 in v8s_perspective-0.0 (cls_loss at max_prec 0.36804)\n",
            "min_cls_loss: 0.35931 in v8s_perspective-0.0 (prec at min_cls_loss: 0.86159)\n",
            "\n"
          ]
        }
      ]
    },
    {
      "cell_type": "markdown",
      "source": [
        "## Best Hyperparameters:"
      ],
      "metadata": {
        "id": "1GQseb24I4-d"
      }
    },
    {
      "cell_type": "code",
      "source": [
        "hsv_h = 0.375\n",
        "hsv_s = 0.375\n",
        "hsv_v = 0.25\n",
        "degrees = 0.0\n",
        "translate = 0.375\n",
        "scale = 0.5\n",
        "shear = 0.0\n",
        "perspective = 0.0"
      ],
      "metadata": {
        "id": "yJX5s94KI4ef"
      },
      "execution_count": null,
      "outputs": []
    }
  ]
}