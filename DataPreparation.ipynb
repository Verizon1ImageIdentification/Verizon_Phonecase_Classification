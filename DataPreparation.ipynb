{
  "nbformat": 4,
  "nbformat_minor": 0,
  "metadata": {
    "colab": {
      "provenance": []
    },
    "kernelspec": {
      "name": "python3",
      "display_name": "Python 3"
    },
    "language_info": {
      "name": "python"
    }
  },
  "cells": [
    {
      "cell_type": "markdown",
      "source": [
        "## Install Libraries"
      ],
      "metadata": {
        "id": "jYv1eOREdM3S"
      }
    },
    {
      "cell_type": "code",
      "execution_count": null,
      "metadata": {
        "id": "mtpmljwccd08"
      },
      "outputs": [],
      "source": [
        "pip install ultralytics"
      ]
    },
    {
      "cell_type": "code",
      "source": [
        "from google.colab import drive\n",
        "drive.mount('/content/drive')"
      ],
      "metadata": {
        "id": "Qw46E0gociLQ"
      },
      "execution_count": null,
      "outputs": []
    },
    {
      "cell_type": "code",
      "source": [
        "import os"
      ],
      "metadata": {
        "id": "ELflWt98cjCH"
      },
      "execution_count": null,
      "outputs": []
    },
    {
      "cell_type": "code",
      "source": [
        "from ultralytics import YOLO\n",
        "from ultralytics.data.utils import autosplit"
      ],
      "metadata": {
        "id": "55bAZwQbckBS"
      },
      "execution_count": null,
      "outputs": []
    },
    {
      "cell_type": "markdown",
      "source": [
        "## Define Constants"
      ],
      "metadata": {
        "id": "2EC5jFUedOpJ"
      }
    },
    {
      "cell_type": "code",
      "source": [
        "PROJECT_DIR = \"/content/drive/MyDrive/Verizon ML Project\"\n",
        "DATASET_DIR = os.path.join(PROJECT_DIR, \"dataset\")"
      ],
      "metadata": {
        "id": "h3c35pUucz-A"
      },
      "execution_count": null,
      "outputs": []
    },
    {
      "cell_type": "markdown",
      "source": [
        "## Split and Merge Functions"
      ],
      "metadata": {
        "id": "cRgnIq9CdPwU"
      }
    },
    {
      "cell_type": "code",
      "source": [
        "split_paths = set() # element => (img_path, label_path)\n",
        "\n",
        "def split():\n",
        "\n",
        "    # split dataset into train, val, and test\n",
        "    autosplit(\n",
        "        path=DATASET_DIR,\n",
        "        weights=(0.7, 0.2, 0.1),\n",
        "        annotated_only=True # only images w/ .txt files are split\n",
        "    )\n",
        "\n",
        "    # create images and labels directories\n",
        "    images_path = os.path.join(DATASET_DIR, \"images\")\n",
        "    labels_path = os.path.join(DATASET_DIR, \"labels\")\n",
        "    try:\n",
        "        images_dir = os.mkdir(images_path)\n",
        "        labels_dir = os.mkdir(labels_path)\n",
        "    except:\n",
        "        pass\n",
        "\n",
        "    # key (folder) => value (corresponding .txt from autosplit)\n",
        "    splits = {\"train\":\"autosplit_train.txt\",\n",
        "              \"val\":\"autosplit_val.txt\",\n",
        "              \"test\":\"autosplit_test.txt\"}\n",
        "\n",
        "    for split_type, split_txt in splits.items():\n",
        "\n",
        "        # create partitioned directories (ex. ./dataset/images/train)\n",
        "        split_img_path = os.path.join(images_path, split_type)\n",
        "        split_label_path = os.path.join(labels_path, split_type)\n",
        "        split_paths.add((split_img_path, split_label_path))\n",
        "        try:\n",
        "            split_img_dir = os.mkdir(split_img_path)\n",
        "            split_label_dir = os.mkdir(split_label_path)\n",
        "        except:\n",
        "            pass\n",
        "\n",
        "        # move data into partitions\n",
        "        f = open(os.path.join(PROJECT_DIR, split_txt))\n",
        "        for img_path in f:\n",
        "\n",
        "            img_path = os.path.join(PROJECT_DIR, img_path.strip()) # remove \\n\n",
        "            img_name = img_path.split('/')[-1] # CaseDesign_PhoneModels_Number.png\n",
        "\n",
        "            # change .png or .jpg (from autosplit paths) to .txt\n",
        "            txt_path = img_path.replace(\".png\", \".txt\").replace(\".jpg\", \".txt\")\n",
        "            txt_name = txt_path.split('/')[-1] # CaseDesign_PhoneModels_Number.txt\n",
        "\n",
        "            # move files\n",
        "            try:\n",
        "                new_img_path = os.path.join(split_img_path, img_name)\n",
        "                new_txt_path = os.path.join(split_label_path, txt_name)\n",
        "                os.rename(img_path, new_img_path)\n",
        "                os.rename(txt_path, new_txt_path)\n",
        "            except:\n",
        "                pass\n",
        "\n",
        "def is_valid_split():\n",
        "    for img_path, label_path in split_paths:\n",
        "        img_files = set( [ f.replace(\".png\", \"\").replace(\".jpg\",\"\") for f in os.listdir(img_path) ] )\n",
        "        label_files = set( [ f.replace(\".txt\",\"\") for f in os.listdir(label_path) ] )\n",
        "        if img_files != label_files:\n",
        "            return False\n",
        "    return True\n",
        "\n",
        "def merge():\n",
        "    for img_path, label_path in split_paths:\n",
        "        for f in os.listdir(img_path):\n",
        "            os.rename(os.path.join(img_path, f), os.path.join(DATASET_DIR, f))\n",
        "        for f in os.listdir(label_path):\n",
        "            os.rename(os.path.join(label_path, f), os.path.join(DATASET_DIR, f))"
      ],
      "metadata": {
        "id": "oP_PNJjzclPV"
      },
      "execution_count": null,
      "outputs": []
    },
    {
      "cell_type": "code",
      "source": [
        "split()"
      ],
      "metadata": {
        "id": "F_y7Lv_JcmeN"
      },
      "execution_count": null,
      "outputs": []
    },
    {
      "cell_type": "code",
      "source": [
        "is_valid_split()"
      ],
      "metadata": {
        "id": "nR8TQzRYcnf-"
      },
      "execution_count": null,
      "outputs": []
    },
    {
      "cell_type": "code",
      "source": [
        "merge()"
      ],
      "metadata": {
        "id": "WMbVKdqScpVa"
      },
      "execution_count": null,
      "outputs": []
    },
    {
      "cell_type": "markdown",
      "source": [
        "## Relabelling"
      ],
      "metadata": {
        "id": "FCK_fdAlctT0"
      }
    },
    {
      "cell_type": "markdown",
      "source": [
        "#### Create Label Map"
      ],
      "metadata": {
        "id": "x2wgZ_bOdSBS"
      }
    },
    {
      "cell_type": "code",
      "source": [
        "# pull excel sheet\n",
        "df = pd.read_excel(os.path.join(PROJECT_DIR, 'Verizon Phone Cases Spreadsheet.xlsx'))\n",
        "df_design_label = df[['Case Design', 'Label']]\n",
        "\n",
        "# initialize maps\n",
        "label_map = {} # case name => label\n",
        "yaml_map = {}  # label => case name\n",
        "\n",
        "# create maps\n",
        "for index, row in df_design_label.iterrows():\n",
        "  label_map[row['Case Design'].replace(\" \", \"\")] = row['Label']\n",
        "  yaml_map[row['Label']] = [row['Case Design'].replace(\" \", \"\")]\n",
        "\n",
        "label_map"
      ],
      "metadata": {
        "id": "FIZ50fVfcwG8"
      },
      "execution_count": null,
      "outputs": []
    },
    {
      "cell_type": "markdown",
      "source": [
        "#### Use Case Design in Filename to Assign Label in .txt file"
      ],
      "metadata": {
        "id": "92Pz2h-tdUbG"
      }
    },
    {
      "cell_type": "code",
      "source": [
        "# Replace 'your-folder-path' with the path to your Google Drive folder\n",
        "\n",
        "# assumes all data is not split\n",
        "folder_path = os.path.join(PROJECT_DIR, 'dataset')\n",
        "\n",
        "# iterate over all files in the folder\n",
        "for filename in os.listdir(folder_path):\n",
        "\n",
        "    # check if the file is a text file\n",
        "    if filename.endswith('.txt'):\n",
        "        file_path = os.path.join(folder_path, filename)\n",
        "\n",
        "        # read file\n",
        "        with open(file_path, 'r') as file:\n",
        "            content = file.read()\n",
        "\n",
        "        # obtain case design from file name\n",
        "        # (assuming name is CaseDesign_PhoneModels_Number.png)\n",
        "        case_design = filename.split('_')[0]\n",
        "        if case_design not in label_map:\n",
        "            print(case_design + \" not in map\")\n",
        "            continue\n",
        "\n",
        "        # get the corresponding value from the label_map\n",
        "        new_id = str(label_map[case_design])\n",
        "\n",
        "        # check if file is not empty\n",
        "        if content:\n",
        "            # modify first number in YOLO format\n",
        "            margin = len(content.split()[0])\n",
        "            modified_content = new_id + content[margin:]\n",
        "\n",
        "            # write the modified content back to the file\n",
        "            with open(file_path, 'w') as file:\n",
        "                file.write(modified_content)\n",
        "\n",
        "print(\"All text files have been updated.\")"
      ],
      "metadata": {
        "id": "5y8CBy2Ac60F"
      },
      "execution_count": null,
      "outputs": []
    },
    {
      "cell_type": "markdown",
      "source": [
        "## Final Dataset w/ `.yaml` File"
      ],
      "metadata": {
        "id": "r4GReeFrc_27"
      }
    },
    {
      "cell_type": "markdown",
      "source": [
        "#### dataset.yaml\n",
        "```\n",
        "# Train/val/test sets as 1) dir: path/to/imgs, 2) file: path/to/imgs.txt, or 3) list: [path/to/imgs1, path/to/imgs2, ..]\n",
        "\n",
        "path: /content/drive/MyDrive/Verizon_ML_Project/dataset\n",
        "train: images/train  # train images (relative to 'path')\n",
        "val: images/val  # val images (relative to 'path')\n",
        "test: images/test # test images\n",
        "\n",
        "# Classes (25 case styles)\n",
        "names:\n",
        "  0: OtterBoxSymmetryCore\n",
        "  1: CASETiFYMirror\n",
        "  2: IncipioCru\n",
        "  3: Dahliaa-la\n",
        "  4: UAGPathfinder\n",
        "  5: AfternoonInVersailles\n",
        "  6: DefenderSeriesProBlack\n",
        "  7: RegencyEra\n",
        "  8: CherryMonCheri\n",
        "  9: BowPosiePink\n",
        "  10: Penelope\n",
        "  11: LadyWhistledown\n",
        "  12: FrenchBlue\n",
        "  13: SpigenCoreArmor\n",
        "  14: TouchOfPearl\n",
        "  15: SymmetrySeriesBlack\n",
        "  16: SundayinSoho\n",
        "  17: VioletFloralMix\n",
        "  18: VelvetCaviarChecker-NudeVibe\n",
        "  19: MoonandStars\n",
        "  20: GoldFloral\n",
        "  21: HollyhockFloralClear\n",
        "  22: UAGCivilianCase\n",
        "  23: Camo\n",
        "  24: MoodyFloral\n",
        "```"
      ],
      "metadata": {
        "id": "2rZSEHRrdEu1"
      }
    },
    {
      "cell_type": "code",
      "source": [],
      "metadata": {
        "id": "B7BfvBmsdCcG"
      },
      "execution_count": null,
      "outputs": []
    }
  ]
}